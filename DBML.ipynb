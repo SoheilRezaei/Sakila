{
 "nbformat": 4,
 "nbformat_minor": 0,
 "metadata": {
  "colab": {
   "provenance": []
  },
  "kernelspec": {
   "name": "python3",
   "display_name": "Python 3"
  },
  "language_info": {
   "name": "python"
  }
 },
 "cells": [
  {
   "cell_type": "code",
   "execution_count": 107,
   "metadata": {
    "id": "sCyOlzfVefsM",
    "pycharm": {
     "name": "#%%\n"
    }
   },
   "outputs": [],
   "source": [
    "import numpy as np\n",
    "np.random.seed(42)\n",
    "import pandas as pd\n",
    "from sklearn.model_selection import train_test_split, GridSearchCV\n",
    "from sklearn.linear_model import LinearRegression\n",
    "from sklearn.metrics import mean_squared_error, r2_score\n",
    "import matplotlib.pyplot as plt\n",
    "from keras.layers import Dense\n",
    "from keras import Sequential"
   ]
  },
  {
   "cell_type": "code",
   "source": [
    "df = pd.read_csv('RentalDaysCostCalculation.csv')\n",
    "df"
   ],
   "metadata": {
    "id": "Dx5u0EKZelMY",
    "pycharm": {
     "name": "#%%\n"
    }
   },
   "execution_count": 120,
   "outputs": [
    {
     "data": {
      "text/plain": "       Actor_ID   Category  Duration Rating  RentalRate  ReplacementCost  \\\n0             1  Animation        92      R        0.99             9.99   \n1             1  Animation        92      R        0.99             9.99   \n2             1  Animation        92      R        0.99             9.99   \n3             1  Animation        92      R        0.99             9.99   \n4             1   Children        78  NC-17        0.99            26.99   \n...         ...        ...       ...    ...         ...              ...   \n20029       200     Sci-Fi        73  NC-17        2.99            29.99   \n20030       200     Sports       174  NC-17        2.99            21.99   \n20031       200     Sports       174  NC-17        2.99            21.99   \n20032       200     Sports       174  NC-17        2.99            21.99   \n20033       200     Sports       174  NC-17        2.99            21.99   \n\n                      Title  Month  Total Cost  Total Days Rented  \n0      ANACONDA CONFESSIONS      5           5                  5  \n1      ANACONDA CONFESSIONS      6          28                 28  \n2      ANACONDA CONFESSIONS      7          42                 42  \n3      ANACONDA CONFESSIONS      8          17                 17  \n4           LANGUAGE COWBOY      5           5                  5  \n...                     ...    ...         ...                ...  \n20029             RANDOM GO      8          66                 22  \n20030            JADE BUNCH      5          33                 11  \n20031            JADE BUNCH      6          30                 10  \n20032            JADE BUNCH      7          78                 26  \n20033            JADE BUNCH      8          96                 32  \n\n[20034 rows x 10 columns]",
      "text/html": "<div>\n<style scoped>\n    .dataframe tbody tr th:only-of-type {\n        vertical-align: middle;\n    }\n\n    .dataframe tbody tr th {\n        vertical-align: top;\n    }\n\n    .dataframe thead th {\n        text-align: right;\n    }\n</style>\n<table border=\"1\" class=\"dataframe\">\n  <thead>\n    <tr style=\"text-align: right;\">\n      <th></th>\n      <th>Actor_ID</th>\n      <th>Category</th>\n      <th>Duration</th>\n      <th>Rating</th>\n      <th>RentalRate</th>\n      <th>ReplacementCost</th>\n      <th>Title</th>\n      <th>Month</th>\n      <th>Total Cost</th>\n      <th>Total Days Rented</th>\n    </tr>\n  </thead>\n  <tbody>\n    <tr>\n      <th>0</th>\n      <td>1</td>\n      <td>Animation</td>\n      <td>92</td>\n      <td>R</td>\n      <td>0.99</td>\n      <td>9.99</td>\n      <td>ANACONDA CONFESSIONS</td>\n      <td>5</td>\n      <td>5</td>\n      <td>5</td>\n    </tr>\n    <tr>\n      <th>1</th>\n      <td>1</td>\n      <td>Animation</td>\n      <td>92</td>\n      <td>R</td>\n      <td>0.99</td>\n      <td>9.99</td>\n      <td>ANACONDA CONFESSIONS</td>\n      <td>6</td>\n      <td>28</td>\n      <td>28</td>\n    </tr>\n    <tr>\n      <th>2</th>\n      <td>1</td>\n      <td>Animation</td>\n      <td>92</td>\n      <td>R</td>\n      <td>0.99</td>\n      <td>9.99</td>\n      <td>ANACONDA CONFESSIONS</td>\n      <td>7</td>\n      <td>42</td>\n      <td>42</td>\n    </tr>\n    <tr>\n      <th>3</th>\n      <td>1</td>\n      <td>Animation</td>\n      <td>92</td>\n      <td>R</td>\n      <td>0.99</td>\n      <td>9.99</td>\n      <td>ANACONDA CONFESSIONS</td>\n      <td>8</td>\n      <td>17</td>\n      <td>17</td>\n    </tr>\n    <tr>\n      <th>4</th>\n      <td>1</td>\n      <td>Children</td>\n      <td>78</td>\n      <td>NC-17</td>\n      <td>0.99</td>\n      <td>26.99</td>\n      <td>LANGUAGE COWBOY</td>\n      <td>5</td>\n      <td>5</td>\n      <td>5</td>\n    </tr>\n    <tr>\n      <th>...</th>\n      <td>...</td>\n      <td>...</td>\n      <td>...</td>\n      <td>...</td>\n      <td>...</td>\n      <td>...</td>\n      <td>...</td>\n      <td>...</td>\n      <td>...</td>\n      <td>...</td>\n    </tr>\n    <tr>\n      <th>20029</th>\n      <td>200</td>\n      <td>Sci-Fi</td>\n      <td>73</td>\n      <td>NC-17</td>\n      <td>2.99</td>\n      <td>29.99</td>\n      <td>RANDOM GO</td>\n      <td>8</td>\n      <td>66</td>\n      <td>22</td>\n    </tr>\n    <tr>\n      <th>20030</th>\n      <td>200</td>\n      <td>Sports</td>\n      <td>174</td>\n      <td>NC-17</td>\n      <td>2.99</td>\n      <td>21.99</td>\n      <td>JADE BUNCH</td>\n      <td>5</td>\n      <td>33</td>\n      <td>11</td>\n    </tr>\n    <tr>\n      <th>20031</th>\n      <td>200</td>\n      <td>Sports</td>\n      <td>174</td>\n      <td>NC-17</td>\n      <td>2.99</td>\n      <td>21.99</td>\n      <td>JADE BUNCH</td>\n      <td>6</td>\n      <td>30</td>\n      <td>10</td>\n    </tr>\n    <tr>\n      <th>20032</th>\n      <td>200</td>\n      <td>Sports</td>\n      <td>174</td>\n      <td>NC-17</td>\n      <td>2.99</td>\n      <td>21.99</td>\n      <td>JADE BUNCH</td>\n      <td>7</td>\n      <td>78</td>\n      <td>26</td>\n    </tr>\n    <tr>\n      <th>20033</th>\n      <td>200</td>\n      <td>Sports</td>\n      <td>174</td>\n      <td>NC-17</td>\n      <td>2.99</td>\n      <td>21.99</td>\n      <td>JADE BUNCH</td>\n      <td>8</td>\n      <td>96</td>\n      <td>32</td>\n    </tr>\n  </tbody>\n</table>\n<p>20034 rows × 10 columns</p>\n</div>"
     },
     "execution_count": 120,
     "metadata": {},
     "output_type": "execute_result"
    }
   ]
  },
  {
   "cell_type": "code",
   "execution_count": 109,
   "outputs": [
    {
     "data": {
      "text/plain": "Index(['Actor_ID', 'Category', 'Duration', 'Rating', 'RentalRate',\n       'ReplacementCost', 'Title', 'Month', 'Total Cost', 'Total Days Rented'],\n      dtype='object')"
     },
     "execution_count": 109,
     "metadata": {},
     "output_type": "execute_result"
    }
   ],
   "source": [
    "df.columns"
   ],
   "metadata": {
    "collapsed": false,
    "pycharm": {
     "name": "#%%\n"
    }
   }
  },
  {
   "cell_type": "code",
   "source": [
    "df"
   ],
   "metadata": {
    "colab": {
     "base_uri": "https://localhost:8080/",
     "height": 204
    },
    "id": "LVcBpB6PfDnF",
    "outputId": "739f15fa-b393-497c-ddd0-b95e1368853d",
    "pycharm": {
     "name": "#%%\n"
    }
   },
   "execution_count": 118,
   "outputs": [
    {
     "data": {
      "text/plain": "       Actor_ID   Category  Duration Rating  RentalRate  ReplacementCost  \\\n0             1  Animation        92      R        0.99             9.99   \n1             1  Animation        92      R        0.99             9.99   \n2             1  Animation        92      R        0.99             9.99   \n3             1  Animation        92      R        0.99             9.99   \n4             1   Children        78  NC-17        0.99            26.99   \n...         ...        ...       ...    ...         ...              ...   \n20029       200     Sci-Fi        73  NC-17        2.99            29.99   \n20030       200     Sports       174  NC-17        2.99            21.99   \n20031       200     Sports       174  NC-17        2.99            21.99   \n20032       200     Sports       174  NC-17        2.99            21.99   \n20033       200     Sports       174  NC-17        2.99            21.99   \n\n                      Title  Month  Total Cost  Total Days Rented  \\\n0      ANACONDA CONFESSIONS      5           5                  5   \n1      ANACONDA CONFESSIONS      6          28                 28   \n2      ANACONDA CONFESSIONS      7          42                 42   \n3      ANACONDA CONFESSIONS      8          17                 17   \n4           LANGUAGE COWBOY      5           5                  5   \n...                     ...    ...         ...                ...   \n20029             RANDOM GO      8          66                 22   \n20030            JADE BUNCH      5          33                 11   \n20031            JADE BUNCH      6          30                 10   \n20032            JADE BUNCH      7          78                 26   \n20033            JADE BUNCH      8          96                 32   \n\n       Category_index  Rating_index  Title_index  \n0                   1             4           21  \n1                   1             4           21  \n2                   1             4           21  \n3                   1             4           21  \n4                   2             1          481  \n...               ...           ...          ...  \n20029              13             1          679  \n20030              14             1          448  \n20031              14             1          448  \n20032              14             1          448  \n20033              14             1          448  \n\n[20034 rows x 13 columns]",
      "text/html": "<div>\n<style scoped>\n    .dataframe tbody tr th:only-of-type {\n        vertical-align: middle;\n    }\n\n    .dataframe tbody tr th {\n        vertical-align: top;\n    }\n\n    .dataframe thead th {\n        text-align: right;\n    }\n</style>\n<table border=\"1\" class=\"dataframe\">\n  <thead>\n    <tr style=\"text-align: right;\">\n      <th></th>\n      <th>Actor_ID</th>\n      <th>Category</th>\n      <th>Duration</th>\n      <th>Rating</th>\n      <th>RentalRate</th>\n      <th>ReplacementCost</th>\n      <th>Title</th>\n      <th>Month</th>\n      <th>Total Cost</th>\n      <th>Total Days Rented</th>\n      <th>Category_index</th>\n      <th>Rating_index</th>\n      <th>Title_index</th>\n    </tr>\n  </thead>\n  <tbody>\n    <tr>\n      <th>0</th>\n      <td>1</td>\n      <td>Animation</td>\n      <td>92</td>\n      <td>R</td>\n      <td>0.99</td>\n      <td>9.99</td>\n      <td>ANACONDA CONFESSIONS</td>\n      <td>5</td>\n      <td>5</td>\n      <td>5</td>\n      <td>1</td>\n      <td>4</td>\n      <td>21</td>\n    </tr>\n    <tr>\n      <th>1</th>\n      <td>1</td>\n      <td>Animation</td>\n      <td>92</td>\n      <td>R</td>\n      <td>0.99</td>\n      <td>9.99</td>\n      <td>ANACONDA CONFESSIONS</td>\n      <td>6</td>\n      <td>28</td>\n      <td>28</td>\n      <td>1</td>\n      <td>4</td>\n      <td>21</td>\n    </tr>\n    <tr>\n      <th>2</th>\n      <td>1</td>\n      <td>Animation</td>\n      <td>92</td>\n      <td>R</td>\n      <td>0.99</td>\n      <td>9.99</td>\n      <td>ANACONDA CONFESSIONS</td>\n      <td>7</td>\n      <td>42</td>\n      <td>42</td>\n      <td>1</td>\n      <td>4</td>\n      <td>21</td>\n    </tr>\n    <tr>\n      <th>3</th>\n      <td>1</td>\n      <td>Animation</td>\n      <td>92</td>\n      <td>R</td>\n      <td>0.99</td>\n      <td>9.99</td>\n      <td>ANACONDA CONFESSIONS</td>\n      <td>8</td>\n      <td>17</td>\n      <td>17</td>\n      <td>1</td>\n      <td>4</td>\n      <td>21</td>\n    </tr>\n    <tr>\n      <th>4</th>\n      <td>1</td>\n      <td>Children</td>\n      <td>78</td>\n      <td>NC-17</td>\n      <td>0.99</td>\n      <td>26.99</td>\n      <td>LANGUAGE COWBOY</td>\n      <td>5</td>\n      <td>5</td>\n      <td>5</td>\n      <td>2</td>\n      <td>1</td>\n      <td>481</td>\n    </tr>\n    <tr>\n      <th>...</th>\n      <td>...</td>\n      <td>...</td>\n      <td>...</td>\n      <td>...</td>\n      <td>...</td>\n      <td>...</td>\n      <td>...</td>\n      <td>...</td>\n      <td>...</td>\n      <td>...</td>\n      <td>...</td>\n      <td>...</td>\n      <td>...</td>\n    </tr>\n    <tr>\n      <th>20029</th>\n      <td>200</td>\n      <td>Sci-Fi</td>\n      <td>73</td>\n      <td>NC-17</td>\n      <td>2.99</td>\n      <td>29.99</td>\n      <td>RANDOM GO</td>\n      <td>8</td>\n      <td>66</td>\n      <td>22</td>\n      <td>13</td>\n      <td>1</td>\n      <td>679</td>\n    </tr>\n    <tr>\n      <th>20030</th>\n      <td>200</td>\n      <td>Sports</td>\n      <td>174</td>\n      <td>NC-17</td>\n      <td>2.99</td>\n      <td>21.99</td>\n      <td>JADE BUNCH</td>\n      <td>5</td>\n      <td>33</td>\n      <td>11</td>\n      <td>14</td>\n      <td>1</td>\n      <td>448</td>\n    </tr>\n    <tr>\n      <th>20031</th>\n      <td>200</td>\n      <td>Sports</td>\n      <td>174</td>\n      <td>NC-17</td>\n      <td>2.99</td>\n      <td>21.99</td>\n      <td>JADE BUNCH</td>\n      <td>6</td>\n      <td>30</td>\n      <td>10</td>\n      <td>14</td>\n      <td>1</td>\n      <td>448</td>\n    </tr>\n    <tr>\n      <th>20032</th>\n      <td>200</td>\n      <td>Sports</td>\n      <td>174</td>\n      <td>NC-17</td>\n      <td>2.99</td>\n      <td>21.99</td>\n      <td>JADE BUNCH</td>\n      <td>7</td>\n      <td>78</td>\n      <td>26</td>\n      <td>14</td>\n      <td>1</td>\n      <td>448</td>\n    </tr>\n    <tr>\n      <th>20033</th>\n      <td>200</td>\n      <td>Sports</td>\n      <td>174</td>\n      <td>NC-17</td>\n      <td>2.99</td>\n      <td>21.99</td>\n      <td>JADE BUNCH</td>\n      <td>8</td>\n      <td>96</td>\n      <td>32</td>\n      <td>14</td>\n      <td>1</td>\n      <td>448</td>\n    </tr>\n  </tbody>\n</table>\n<p>20034 rows × 13 columns</p>\n</div>"
     },
     "execution_count": 118,
     "metadata": {},
     "output_type": "execute_result"
    }
   ]
  },
  {
   "cell_type": "code",
   "source": [
    "df.shape"
   ],
   "metadata": {
    "colab": {
     "base_uri": "https://localhost:8080/"
    },
    "id": "W4_hQvK_gRyS",
    "outputId": "f1fad25d-b510-4699-e4f9-30cd75eeaf63",
    "pycharm": {
     "name": "#%%\n"
    }
   },
   "execution_count": 111,
   "outputs": [
    {
     "data": {
      "text/plain": "(20034, 10)"
     },
     "execution_count": 111,
     "metadata": {},
     "output_type": "execute_result"
    }
   ]
  },
  {
   "cell_type": "markdown",
   "source": [],
   "metadata": {
    "collapsed": false,
    "pycharm": {
     "name": "#%% md\n"
    }
   }
  },
  {
   "cell_type": "code",
   "execution_count": 112,
   "outputs": [],
   "source": [
    "string_cols = df.select_dtypes(include=['object']).columns.tolist()\n",
    "for col in string_cols:\n",
    "    df[col + '_index'] = df[col].astype('category').cat.codes\n"
   ],
   "metadata": {
    "collapsed": false,
    "pycharm": {
     "name": "#%%\n"
    }
   }
  },
  {
   "cell_type": "code",
   "execution_count": 113,
   "outputs": [
    {
     "data": {
      "text/plain": "Index(['Actor_ID', 'Category', 'Duration', 'Rating', 'RentalRate',\n       'ReplacementCost', 'Title', 'Month', 'Total Cost', 'Total Days Rented',\n       'Category_index', 'Rating_index', 'Title_index'],\n      dtype='object')"
     },
     "execution_count": 113,
     "metadata": {},
     "output_type": "execute_result"
    }
   ],
   "source": [
    "df.columns"
   ],
   "metadata": {
    "collapsed": false,
    "pycharm": {
     "name": "#%%\n"
    }
   }
  },
  {
   "cell_type": "code",
   "source": [
    "X_data = df[['Actor_ID','Category_index', 'Rating_index' , 'Title_index' , 'Month']]\n",
    "y_data = df['Total Days Rented']\n",
    "\n",
    "Xtrain, Xtest, ytrain, ytest = train_test_split(\n",
    "    X_data,\n",
    "    y_data,\n",
    "    test_size = 0.3,\n",
    "    random_state = 42,\n",
    ")\n",
    "\n"
   ],
   "metadata": {
    "id": "1Z8yx328gTgD",
    "pycharm": {
     "name": "#%%\n"
    }
   },
   "execution_count": 114,
   "outputs": []
  },
  {
   "cell_type": "code",
   "execution_count": 115,
   "outputs": [
    {
     "data": {
      "text/plain": "       Actor_ID  Category_index  Rating_index  Title_index  Month\n5617         58               4             0          609      2\n14975       149               4             4          342      8\n895          11               5             1          559      8\n19073       191               6             0          912      8\n8698         89               3             1          924      8",
      "text/html": "<div>\n<style scoped>\n    .dataframe tbody tr th:only-of-type {\n        vertical-align: middle;\n    }\n\n    .dataframe tbody tr th {\n        vertical-align: top;\n    }\n\n    .dataframe thead th {\n        text-align: right;\n    }\n</style>\n<table border=\"1\" class=\"dataframe\">\n  <thead>\n    <tr style=\"text-align: right;\">\n      <th></th>\n      <th>Actor_ID</th>\n      <th>Category_index</th>\n      <th>Rating_index</th>\n      <th>Title_index</th>\n      <th>Month</th>\n    </tr>\n  </thead>\n  <tbody>\n    <tr>\n      <th>5617</th>\n      <td>58</td>\n      <td>4</td>\n      <td>0</td>\n      <td>609</td>\n      <td>2</td>\n    </tr>\n    <tr>\n      <th>14975</th>\n      <td>149</td>\n      <td>4</td>\n      <td>4</td>\n      <td>342</td>\n      <td>8</td>\n    </tr>\n    <tr>\n      <th>895</th>\n      <td>11</td>\n      <td>5</td>\n      <td>1</td>\n      <td>559</td>\n      <td>8</td>\n    </tr>\n    <tr>\n      <th>19073</th>\n      <td>191</td>\n      <td>6</td>\n      <td>0</td>\n      <td>912</td>\n      <td>8</td>\n    </tr>\n    <tr>\n      <th>8698</th>\n      <td>89</td>\n      <td>3</td>\n      <td>1</td>\n      <td>924</td>\n      <td>8</td>\n    </tr>\n  </tbody>\n</table>\n</div>"
     },
     "execution_count": 115,
     "metadata": {},
     "output_type": "execute_result"
    }
   ],
   "source": [
    "Xtrain.head()"
   ],
   "metadata": {
    "collapsed": false,
    "pycharm": {
     "name": "#%%\n"
    }
   }
  },
  {
   "cell_type": "code",
   "execution_count": 116,
   "outputs": [
    {
     "data": {
      "text/plain": "5617      0\n14975    33\n895      22\n19073    44\n8698     52\nName: Total Days Rented, dtype: int64"
     },
     "execution_count": 116,
     "metadata": {},
     "output_type": "execute_result"
    }
   ],
   "source": [
    "ytrain.head()"
   ],
   "metadata": {
    "collapsed": false,
    "pycharm": {
     "name": "#%%\n"
    }
   }
  },
  {
   "cell_type": "code",
   "execution_count": 121,
   "outputs": [
    {
     "name": "stdout",
     "output_type": "stream",
     "text": [
      "Epoch 1/10\n",
      "439/439 [==============================] - 1s 645us/step - loss: 818.9018\n",
      "Epoch 2/10\n",
      "439/439 [==============================] - 0s 635us/step - loss: 311.4251\n",
      "Epoch 3/10\n",
      "439/439 [==============================] - 0s 647us/step - loss: 293.2077\n",
      "Epoch 4/10\n",
      "439/439 [==============================] - 0s 631us/step - loss: 277.4399\n",
      "Epoch 5/10\n",
      "439/439 [==============================] - 0s 626us/step - loss: 264.4909\n",
      "Epoch 6/10\n",
      "439/439 [==============================] - 0s 641us/step - loss: 252.3073\n",
      "Epoch 7/10\n",
      "439/439 [==============================] - 0s 620us/step - loss: 240.8598\n",
      "Epoch 8/10\n",
      "439/439 [==============================] - 0s 618us/step - loss: 230.6070\n",
      "Epoch 9/10\n",
      "439/439 [==============================] - 0s 623us/step - loss: 222.3613\n",
      "Epoch 10/10\n",
      "439/439 [==============================] - 0s 625us/step - loss: 215.7700\n",
      "Model: \"sequential_6\"\n",
      "_________________________________________________________________\n",
      " Layer (type)                Output Shape              Param #   \n",
      "=================================================================\n",
      " dense_18 (Dense)            (None, 8)                 48        \n",
      "                                                                 \n",
      " dense_19 (Dense)            (None, 8)                 72        \n",
      "                                                                 \n",
      " dense_20 (Dense)            (None, 1)                 9         \n",
      "                                                                 \n",
      "=================================================================\n",
      "Total params: 129\n",
      "Trainable params: 129\n",
      "Non-trainable params: 0\n",
      "_________________________________________________________________\n"
     ]
    }
   ],
   "source": [
    "model = Sequential([\n",
    "    Dense(8,activation = \"relu\"),\n",
    "    Dense(8,activation = \"relu\"),\n",
    "    Dense(1)\n",
    "])\n",
    "#compiling model and set optimizer and loss function\n",
    "model.compile(loss='mean_squared_error', optimizer='adam')\n",
    "History = model.fit(Xtrain,ytrain , epochs=10)\n",
    "\n",
    "model.summary()"
   ],
   "metadata": {
    "collapsed": false,
    "pycharm": {
     "name": "#%%\n"
    }
   }
  },
  {
   "cell_type": "code",
   "execution_count": 123,
   "outputs": [
    {
     "data": {
      "text/plain": "<matplotlib.legend.Legend at 0x2abc9b4a640>"
     },
     "execution_count": 123,
     "metadata": {},
     "output_type": "execute_result"
    },
    {
     "data": {
      "text/plain": "<Figure size 300x300 with 1 Axes>",
      "image/png": "[encoded data removed]"
     },
     "metadata": {},
     "output_type": "display_data"
    }
   ],
   "source": [
    "plt.figure(figsize=(3,3))\n",
    "plt.xlabel(\"Epochs\")\n",
    "plt.ylabel(\"loss\")\n",
    "plt.plot(History.history['loss'], label='training Loss')\n",
    "plt.legend()"
   ],
   "metadata": {
    "collapsed": false,
    "pycharm": {
     "name": "#%%\n"
    }
   }
  },
  {
   "cell_type": "code",
   "execution_count": 88,
   "outputs": [
    {
     "name": "stdout",
     "output_type": "stream",
     "text": [
      "188/188 [==============================] - 0s 490us/step\n",
      "X_test:\n",
      "        Actor_ID  Category_index  Rating_index  Title_index  Month\n",
      "13883       139               8             3          159      7\n",
      "12216       123               0             3          502      5\n",
      "17441       174              15             3          469      5\n",
      "18152       181              13             1          596      8\n",
      "4328         45               5             2          153      6\n",
      "...         ...             ...           ...          ...    ...\n",
      "12382       124               9             0           99      6\n",
      "6536         66              14             1          338      6\n",
      "11091       111               6             0          167      5\n",
      "5088         53               0             0          665      8\n",
      "9857        101               2             1           60      7\n",
      "\n",
      "[6011 rows x 5 columns]\n",
      "\n",
      "y_pred:\n",
      " [[25.59885 ]\n",
      " [17.852703]\n",
      " [13.362949]\n",
      " ...\n",
      " [17.698658]\n",
      " [30.035229]\n",
      " [24.714893]]\n"
     ]
    }
   ],
   "source": [
    "y_pred = model.predict(Xtest)\n",
    "print(\"X_test:\\n\", Xtest)\n",
    "print(\"\\ny_pred:\\n\", y_pred)\n"
   ],
   "metadata": {
    "collapsed": false,
    "pycharm": {
     "name": "#%%\n"
    }
   }
  },
  {
   "cell_type": "code",
   "source": [
    "model = LinearRegression()\n",
    "model.fit(Xtrain, ytrain)\n",
    "\n",
    "y_pred = model.predict(Xtest)\n",
    "mse = mean_squared_error(ytest, y_pred)\n",
    "\n",
    "print(\"Mean squared error: \", mse)\n"
   ],
   "metadata": {
    "colab": {
     "base_uri": "https://localhost:8080/",
     "height": 374
    },
    "id": "e9dgJrdAi2ew",
    "outputId": "41ab5a70-4474-4d9e-8561-aae24fccb63e",
    "pycharm": {
     "name": "#%%\n"
    }
   },
   "execution_count": 91,
   "outputs": [
    {
     "name": "stdout",
     "output_type": "stream",
     "text": [
      "Mean squared error:  180.06761623968458\n"
     ]
    }
   ]
  },
  {
   "cell_type": "code",
   "execution_count": 104,
   "outputs": [
    {
     "name": "stdout",
     "output_type": "stream",
     "text": [
      "       Actor  Category  Rating  Title  Month  Total day rented\n",
      "13883    139         8       3    159      7         26.338554\n",
      "12216    123         0       3    502      5         12.791761\n",
      "17441    174        15       3    469      5         11.354393\n",
      "18152    181        13       1    596      8         32.161957\n",
      "4328      45         5       2    153      6         19.425480\n",
      "...      ...       ...     ...    ...    ...               ...\n",
      "12382    124         9       0     99      6         18.805680\n",
      "6536      66        14       1    338      6         18.214547\n",
      "11091    111         6       0    167      5         12.024512\n",
      "5088      53         0       0    665      8         33.169781\n",
      "9857     101         2       1     60      7         26.693958\n",
      "\n",
      "[6011 rows x 6 columns]\n"
     ]
    }
   ],
   "source": [
    "# Add y_pred as a new column to Xtest\n",
    "Xtest_with_ypred = Xtest.assign(y_pred=y_pred)\n",
    "Xtest_with_ypred = Xtest_with_ypred.rename(columns={'Actor_ID': 'Actor', 'Category_index': 'Category', 'Rating_index': 'Rating', 'Title_index': 'Title' , 'y_pred' : 'Total day rented'})\n",
    "# Print the new DataFrame with y_pred column\n",
    "print(Xtest_with_ypred)\n"
   ],
   "metadata": {
    "collapsed": false,
    "pycharm": {
     "name": "#%%\n"
    }
   }
  },
  {
   "cell_type": "code",
   "execution_count": null,
   "outputs": [],
   "source": [],
   "metadata": {
    "collapsed": false,
    "pycharm": {
     "name": "#%%\n"
    }
   }
  }
 ]
}